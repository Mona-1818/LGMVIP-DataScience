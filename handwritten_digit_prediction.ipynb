{
  "nbformat": 4,
  "nbformat_minor": 0,
  "metadata": {
    "colab": {
      "provenance": [],
      "collapsed_sections": [],
      "authorship_tag": "ABX9TyO3g9Z9ATpqbQSXUm06X1zO",
      "include_colab_link": true
    },
    "kernelspec": {
      "name": "python3",
      "display_name": "Python 3"
    },
    "language_info": {
      "name": "python"
    }
  },
  "cells": [
    {
      "cell_type": "markdown",
      "metadata": {
        "id": "view-in-github",
        "colab_type": "text"
      },
      "source": [
        "<a href=\"https://colab.research.google.com/github/Mona-1818/LGMVIP-DataScience/blob/main/handwritten_digit_prediction.ipynb\" target=\"_parent\"><img src=\"https://colab.research.google.com/assets/colab-badge.svg\" alt=\"Open In Colab\"/></a>"
      ]
    },
    {
      "cell_type": "code",
      "execution_count": null,
      "metadata": {
        "id": "syHKi5Wi5_By"
      },
      "outputs": [],
      "source": [
        "#libraries\n",
        "import tensorflow as tf \n",
        "import matplotlib.pyplot as plt\n",
        "import numpy as np   \n",
        "import cv2 as cv\n",
        "from tensorflow.keras.models import Sequential\n",
        "from tensorflow.keras.layers import Dropout, Activation \n",
        "from keras.layers.convolutional import Conv2D\n",
        "from keras.layers import Dense\n",
        "from keras.layers.convolutional import MaxPooling2D\n",
        "from keras.layers import Flatten \n",
        "from termcolor import colored"
      ]
    },
    {
      "cell_type": "code",
      "source": [
        "from google.colab import drive\n",
        "drive.mount('/content/drive')"
      ],
      "metadata": {
        "id": "_pgZOejNH7m8"
      },
      "execution_count": null,
      "outputs": []
    },
    {
      "cell_type": "code",
      "source": [
        "#loading mnist dataset  \n",
        "#trainig samples = 60,000 and test samples = 10,000\n",
        "mnist_data = tf.keras.datasets.mnist "
      ],
      "metadata": {
        "id": "g8f7yJqU6Jgl"
      },
      "execution_count": null,
      "outputs": []
    },
    {
      "cell_type": "code",
      "source": [
        "#train and test datasets\n",
        "(x_train, y_train),(x_test, y_test) = mnist_data.load_data()"
      ],
      "metadata": {
        "colab": {
          "base_uri": "https://localhost:8080/"
        },
        "id": "zhn8qa-p6b32",
        "outputId": "068233d6-b6db-4e3c-fd7c-df789b2c06ca"
      },
      "execution_count": null,
      "outputs": [
        {
          "output_type": "stream",
          "name": "stdout",
          "text": [
            "Downloading data from https://storage.googleapis.com/tensorflow/tf-keras-datasets/mnist.npz\n",
            "11493376/11490434 [==============================] - 0s 0us/step\n",
            "11501568/11490434 [==============================] - 0s 0us/step\n"
          ]
        }
      ]
    },
    {
      "cell_type": "code",
      "source": [
        "#shape \n",
        "print(\"shape of training dataset : \" + str(x_train.shape)) \n",
        "print(\"shape of test dataset : \" + str(x_test.shape))"
      ],
      "metadata": {
        "colab": {
          "base_uri": "https://localhost:8080/"
        },
        "id": "8V4m30-d6eJW",
        "outputId": "c288708f-681e-46fd-9ec9-cf6ad05319aa"
      },
      "execution_count": null,
      "outputs": [
        {
          "output_type": "stream",
          "name": "stdout",
          "text": [
            "shape of training dataset : (60000, 28, 28)\n",
            "shape of test dataset : (10000, 28, 28)\n"
          ]
        }
      ]
    },
    {
      "cell_type": "code",
      "source": [
        "#graph of binary image \n",
        "plt.imshow(x_train[9], cmap=plt.cm.binary) "
      ],
      "metadata": {
        "colab": {
          "base_uri": "https://localhost:8080/",
          "height": 283
        },
        "id": "ZbMHOGBr7M4F",
        "outputId": "0bb1d364-969b-40d8-efab-8fa10a44714e"
      },
      "execution_count": null,
      "outputs": [
        {
          "output_type": "execute_result",
          "data": {
            "text/plain": [
              "<matplotlib.image.AxesImage at 0x7f4cd5d0fc50>"
            ]
          },
          "metadata": {},
          "execution_count": 5
        },
        {
          "output_type": "display_data",
          "data": {
            "text/plain": [
              "<Figure size 432x288 with 1 Axes>"
            ],
            "image/png": "[encoded data removed]"
          },
          "metadata": {
            "needs_background": "light"
          }
        }
      ]
    },
    {
      "cell_type": "code",
      "source": [
        "#preprocessing \n",
        "x_train = tf.keras.utils.normalize(x_train, axis=1) \n",
        "x_test = tf.keras.utils.normalize(x_test, axis=1)  "
      ],
      "metadata": {
        "id": "jccy10Dg7l8n"
      },
      "execution_count": null,
      "outputs": []
    },
    {
      "cell_type": "code",
      "source": [
        "#resize image \n",
        "image_size = 28 \n",
        "x_trainr = np.array(x_train).reshape(-1, image_size, image_size, 1) \n",
        "x_testr = np.array(x_test).reshape(-1, image_size, image_size, 1)  "
      ],
      "metadata": {
        "id": "XzCUQMQz8Yh7"
      },
      "execution_count": null,
      "outputs": []
    },
    {
      "cell_type": "code",
      "source": [
        "\n",
        "#neural network\n",
        "model = Sequential() \n",
        "\n",
        "# 1st covo layer\n",
        "model.add(Conv2D(64,(3,3)))\n",
        "model.add(Activation('relu'))\n",
        "model.add(MaxPooling2D(pool_size=(2,2)))\n",
        "\n",
        "#2nd layer \n",
        "model.add(Conv2D(64,(3,3)))\n",
        "model.add(Activation('relu'))\n",
        "model.add(MaxPooling2D(pool_size=(2,2))) \n",
        "\n",
        "#3rd layer \n",
        "model.add(Conv2D(64,(3,3)))\n",
        "model.add(Activation('relu'))\n",
        "model.add(MaxPooling2D(pool_size=(2,2)))\n",
        "\n",
        "#connected layer \n",
        "model.add(Flatten()) \n",
        "model.add(Dense(64)) \n",
        "model.add(Activation(\"relu\")) \n",
        "\n",
        "model.add(Dense(32)) \n",
        "model.add(Activation('relu')) \n",
        "\n",
        "model.add(Dense(10)) \n",
        "model.add(Activation('softmax')) \n",
        "\n"
      ],
      "metadata": {
        "id": "7J2L2gp98_NK"
      },
      "execution_count": null,
      "outputs": []
    },
    {
      "cell_type": "code",
      "source": [
        "#model.summary()"
      ],
      "metadata": {
        "id": "x4WYuasa9jGu"
      },
      "execution_count": null,
      "outputs": []
    },
    {
      "cell_type": "code",
      "source": [
        "model.compile(optimizer='adam', loss=tf.keras.losses.SparseCategoricalCrossentropy(from_logits=True), metrics=['accuracy'])"
      ],
      "metadata": {
        "id": "hDha7mnyBq3f"
      },
      "execution_count": null,
      "outputs": []
    },
    {
      "cell_type": "code",
      "source": [
        "model.fit(x_trainr, y_train, epochs=5, validation_split=0.3)"
      ],
      "metadata": {
        "colab": {
          "base_uri": "https://localhost:8080/"
        },
        "id": "5FHXhqNjDWxP",
        "outputId": "f267e6d2-ba25-4eb9-ff3b-7bdb7cbe8ee5"
      },
      "execution_count": null,
      "outputs": [
        {
          "output_type": "stream",
          "name": "stdout",
          "text": [
            "Epoch 1/5\n"
          ]
        },
        {
          "output_type": "stream",
          "name": "stderr",
          "text": [
            "/usr/local/lib/python3.7/dist-packages/tensorflow/python/util/dispatch.py:1082: UserWarning: \"`sparse_categorical_crossentropy` received `from_logits=True`, but the `output` argument was produced by a sigmoid or softmax activation and thus does not represent logits. Was this intended?\"\n",
            "  return dispatch_target(*args, **kwargs)\n"
          ]
        },
        {
          "output_type": "stream",
          "name": "stdout",
          "text": [
            "1313/1313 [==============================] - 41s 31ms/step - loss: 0.3078 - accuracy: 0.9062 - val_loss: 0.1148 - val_accuracy: 0.9652\n",
            "Epoch 2/5\n",
            "1313/1313 [==============================] - 40s 30ms/step - loss: 0.1001 - accuracy: 0.9704 - val_loss: 0.0833 - val_accuracy: 0.9745\n",
            "Epoch 3/5\n",
            "1313/1313 [==============================] - 40s 30ms/step - loss: 0.0703 - accuracy: 0.9781 - val_loss: 0.0729 - val_accuracy: 0.9771\n",
            "Epoch 4/5\n",
            "1313/1313 [==============================] - 40s 30ms/step - loss: 0.0531 - accuracy: 0.9829 - val_loss: 0.0601 - val_accuracy: 0.9816\n",
            "Epoch 5/5\n",
            "1313/1313 [==============================] - 41s 31ms/step - loss: 0.0450 - accuracy: 0.9858 - val_loss: 0.0799 - val_accuracy: 0.9770\n"
          ]
        },
        {
          "output_type": "execute_result",
          "data": {
            "text/plain": [
              "<keras.callbacks.History at 0x7f4cd1a06fd0>"
            ]
          },
          "metadata": {},
          "execution_count": 11
        }
      ]
    },
    {
      "cell_type": "code",
      "source": [
        "#evaluation on testdata  \n",
        "loss, accuracy = model.evaluate(x_testr, y_test)\n",
        "print('loss on test sample : ' + str(loss)) \n",
        "print(\"validation accuracy on test sample :\" +str(accuracy))"
      ],
      "metadata": {
        "colab": {
          "base_uri": "https://localhost:8080/"
        },
        "id": "oBpY9byDDv-A",
        "outputId": "b798980c-2caf-4f6e-fd31-2db07c3a6b07"
      },
      "execution_count": null,
      "outputs": [
        {
          "output_type": "stream",
          "name": "stdout",
          "text": [
            "313/313 [==============================] - 2s 8ms/step - loss: 0.0732 - accuracy: 0.9795\n",
            "loss on test sample : 0.07317137718200684\n",
            "validation accuracy on test sample :0.9794999957084656\n"
          ]
        }
      ]
    },
    {
      "cell_type": "code",
      "source": [
        "#prediction \n",
        "prediction = model.predict([x_testr]) \n",
        "print(prediction)"
      ],
      "metadata": {
        "colab": {
          "base_uri": "https://localhost:8080/"
        },
        "id": "YfF_4pJQGIuy",
        "outputId": "dcfee9b7-ef8d-4638-9ff8-9212b71b4a32"
      },
      "execution_count": null,
      "outputs": [
        {
          "output_type": "stream",
          "name": "stderr",
          "text": [
            "WARNING:tensorflow:Layers in a Sequential model should only have a single input tensor. Received: inputs=(<tf.Tensor 'IteratorGetNext:0' shape=(None, 28, 28, 1) dtype=float32>,). Consider rewriting this model with the Functional API.\n"
          ]
        },
        {
          "output_type": "stream",
          "name": "stdout",
          "text": [
            "[[5.5622372e-06 1.0873981e-06 2.9574194e-06 ... 9.9985695e-01\n",
            "  2.1147296e-06 5.5265176e-05]\n",
            " [2.1257238e-05 4.6788671e-08 9.9996543e-01 ... 6.9511771e-08\n",
            "  1.8340846e-07 3.7112398e-09]\n",
            " [1.6354170e-05 9.9990547e-01 1.1441357e-05 ... 1.4672400e-05\n",
            "  2.2358263e-06 5.3498902e-06]\n",
            " ...\n",
            " [9.5712077e-11 2.3012067e-08 1.0158930e-09 ... 7.8371488e-07\n",
            "  1.2641286e-08 3.1328946e-07]\n",
            " [2.5258209e-06 1.8428253e-09 1.1837787e-08 ... 5.9055663e-11\n",
            "  4.1626972e-05 4.0821323e-07]\n",
            " [4.1973733e-04 2.9087220e-08 8.6536852e-07 ... 4.5006829e-09\n",
            "  1.1000332e-07 7.8547181e-08]]\n"
          ]
        }
      ]
    },
    {
      "cell_type": "code",
      "source": [
        "plt.imshow(x_test[0], cmap=plt.cm.binary) \n",
        "print(\"prediction : \", np.argmax(prediction[0]))"
      ],
      "metadata": {
        "colab": {
          "base_uri": "https://localhost:8080/",
          "height": 283
        },
        "id": "sK65y7asGvBg",
        "outputId": "1a1053fa-0ee3-416f-b358-068c35e8c895"
      },
      "execution_count": null,
      "outputs": [
        {
          "output_type": "stream",
          "name": "stdout",
          "text": [
            "prediction :  7\n"
          ]
        },
        {
          "output_type": "display_data",
          "data": {
            "text/plain": [
              "<Figure size 432x288 with 1 Axes>"
            ],
            "image/png": "[encoded data removed]"
          },
          "metadata": {
            "needs_background": "light"
          }
        }
      ]
    },
    {
      "cell_type": "code",
      "source": [
        "plt.imshow(x_test[10], cmap=plt.cm.binary) \n",
        "print(\"prediction : \", np.argmax(prediction[10]))"
      ],
      "metadata": {
        "colab": {
          "base_uri": "https://localhost:8080/",
          "height": 283
        },
        "id": "bcJu0L3lHpRp",
        "outputId": "c955e994-408e-4f31-f12a-7692f33eae39"
      },
      "execution_count": null,
      "outputs": [
        {
          "output_type": "stream",
          "name": "stdout",
          "text": [
            "prediction :  0\n"
          ]
        },
        {
          "output_type": "display_data",
          "data": {
            "text/plain": [
              "<Figure size 432x288 with 1 Axes>"
            ],
            "image/png": "[encoded data removed]"
          },
          "metadata": {
            "needs_background": "light"
          }
        }
      ]
    },
    {
      "cell_type": "code",
      "source": [
        "from google.colab import drive\n",
        "drive.mount(\"/content/gdrive\", force_remount=True)"
      ],
      "metadata": {
        "colab": {
          "base_uri": "https://localhost:8080/"
        },
        "id": "G6Uotg3BH3QK",
        "outputId": "c4210692-cca5-4d54-abc5-6d39ad71cd1e"
      },
      "execution_count": null,
      "outputs": [
        {
          "output_type": "stream",
          "name": "stdout",
          "text": [
            "Mounted at /content/gdrive\n"
          ]
        }
      ]
    },
    {
      "cell_type": "code",
      "source": [
        "image1 = cv.imread('/content/gdrive/MyDrive/three.png')  \n",
        "resize = cv.resize(cv.cvtColor(image1, cv.COLOR_BGR2GRAY), (28,28), interpolation=cv.INTER_AREA) \n",
        "#normalize \n",
        "img = tf.keras.utils.normalize(resize, axis=1) \n",
        "img = np.array(img).reshape(-1, image_size, image_size, 1)  \n",
        "print(\"prediction : \", np.argmax(model.predict(img)))"
      ],
      "metadata": {
        "colab": {
          "base_uri": "https://localhost:8080/"
        },
        "id": "0GdSi2a4KhY_",
        "outputId": "76d1c1d4-694b-4838-d5a6-318c1e165078"
      },
      "execution_count": null,
      "outputs": [
        {
          "output_type": "stream",
          "name": "stdout",
          "text": [
            "prediction :  3\n"
          ]
        }
      ]
    },
    {
      "cell_type": "code",
      "source": [
        "image2 = cv.imread('/content/gdrive/MyDrive/one.png')  \n",
        "resize = cv.resize(cv.cvtColor(image2, cv.COLOR_BGR2GRAY), (28,28), interpolation=cv.INTER_AREA) \n",
        "#normalize \n",
        "img = tf.keras.utils.normalize(resize, axis=1) \n",
        "img = np.array(img).reshape(-1, image_size, image_size, 1)  \n",
        "print(\"prediction : \", np.argmax(model.predict(img)))"
      ],
      "metadata": {
        "id": "k8FlQna_K_lL",
        "colab": {
          "base_uri": "https://localhost:8080/"
        },
        "outputId": "383c10a5-3cb8-49c8-c371-1c0f825d8cc5"
      },
      "execution_count": null,
      "outputs": [
        {
          "output_type": "stream",
          "name": "stdout",
          "text": [
            "prediction :  1\n"
          ]
        }
      ]
    },
    {
      "cell_type": "code",
      "source": [
        "image3 = cv.imread('/content/gdrive/MyDrive/eight.png')  \n",
        "resize = cv.resize(cv.cvtColor(image3, cv.COLOR_BGR2GRAY), (28,28), interpolation=cv.INTER_AREA) \n",
        "#normalize \n",
        "img = tf.keras.utils.normalize(resize, axis=1) \n",
        "img = np.array(img).reshape(-1, image_size, image_size, 1)  \n",
        "print(\"prediction : \", np.argmax(model.predict(img)))"
      ],
      "metadata": {
        "colab": {
          "base_uri": "https://localhost:8080/"
        },
        "id": "-INOypjFOpez",
        "outputId": "51bfbd15-cbb6-4953-9826-39b52d2fe66b"
      },
      "execution_count": null,
      "outputs": [
        {
          "output_type": "stream",
          "name": "stdout",
          "text": [
            "prediction :  8\n"
          ]
        }
      ]
    },
    {
      "cell_type": "code",
      "source": [
        "print(colored(\"\"\"\n",
        "    THANKYOU \n",
        "    Created by Mona Verma \"\"\", \"cyan\", attrs =['bold'])) "
      ],
      "metadata": {
        "colab": {
          "base_uri": "https://localhost:8080/"
        },
        "id": "gw3yXGgbO_Ky",
        "outputId": "7c4e10c5-caa4-4689-ac6c-4af9eafd39d1"
      },
      "execution_count": null,
      "outputs": [
        {
          "output_type": "stream",
          "name": "stdout",
          "text": [
            "\u001b[1m\u001b[36m\n",
            "    THANKYOU \n",
            "    Created by Mona Verma \u001b[0m\n"
          ]
        }
      ]
    },
    {
      "cell_type": "code",
      "source": [],
      "metadata": {
        "id": "dMeJJAxX4IMl"
      },
      "execution_count": null,
      "outputs": []
    }
  ]
}